{
 "cells": [
  {
   "cell_type": "markdown",
   "id": "6f73b24c-e8e7-47ee-8076-22d618e159e3",
   "metadata": {},
   "source": [
    "\n",
    "Q1. What is DBSCAN and how does it differ from other clustering algorithms such as k-means and\n",
    "hierarchical clustering?\n",
    "Ans->Talking about DBSCAN we will see first three points that is:\n",
    "   1)Core points : Define an epsilon(Suppose Radius)Num of points within epsilon is >=min value=4\n",
    "   \n",
    "   2)Border Points : Num of points within epsilon is <=min value=4\n",
    "   \n",
    "   3)Outliers : DBSCAN is Robust to Outliers,If there will be no point inside the radius epsilon then we called                       Outlier.\n",
    "   \n",
    "   \n",
    "Q3. How do you determine the optimal values for the epsilon and minimum points parameters in DBSCAN\n",
    "clustering?\n",
    "Ans->To choose the value of ε, a k-distance graph is plotted by ordering the distance to the k=MinPts-1 nearest neighbor from the largest to the smallest value. Good values of ε are where the plot shows an “elbow”. If ε is too small, a large portion of the data will not be clustered. If ε is too high, clusters will merge,Small values of ε are generally preferred.\n",
    "\n",
    "\n",
    "\n",
    "Q4. How does DBSCAN clustering handle outliers in a dataset?\n",
    "Ans-> Data points in low-density regions, which are not assigned to any cluster, are treated as outliers or \"noise\".\n",
    "\n",
    "\n",
    "Q5. Can DBSCAN clustering be applied to datasets with high dimensional feature spaces? If so, what are\n",
    "some potential challenges?\n",
    "Ans-> The time complexity of this algorithm is O(n2); Therefore, it is not suitable for processing big datasets.\n",
    "\n",
    "\n",
    "Q10. How does DBSCAN clustering handle datasets with noise or missing values?\n",
    "Ans-> If epsilon is too small: In such cases, we define the sparser clusters as noise i.e, result in the elimination of sparse clusters as outliers.\n",
    "\n",
    "\n",
    "Q11. Implement the DBSCAN algorithm using a python programming language, and apply it to a sample\n",
    "dataset. Discuss the clustering results and interpret the meaning of the obtained clusters."
   ]
  },
  {
   "cell_type": "code",
   "execution_count": null,
   "id": "91ee4887-4515-49c3-a106-622e1e8b0bbb",
   "metadata": {},
   "outputs": [],
   "source": []
  }
 ],
 "metadata": {
  "kernelspec": {
   "display_name": "Python 3 (ipykernel)",
   "language": "python",
   "name": "python3"
  },
  "language_info": {
   "codemirror_mode": {
    "name": "ipython",
    "version": 3
   },
   "file_extension": ".py",
   "mimetype": "text/x-python",
   "name": "python",
   "nbconvert_exporter": "python",
   "pygments_lexer": "ipython3",
   "version": "3.10.8"
  }
 },
 "nbformat": 4,
 "nbformat_minor": 5
}
